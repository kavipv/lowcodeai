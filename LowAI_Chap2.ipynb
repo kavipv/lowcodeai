{
 "cells": [
  {
   "cell_type": "code",
   "execution_count": 1,
   "metadata": {},
   "outputs": [],
   "source": [
    "import pandas as pd\n",
    "import urllib\n",
    "import ssl\n",
    "\n",
    "ssl._create_default_https_context = ssl._create_unverified_context\n",
    "url = 'https://data.cdc.gov/api/views/jiwm-ppbh/rows.csv?accessType=DOWNLOAD'\n",
    "heart_df = pd.read_csv(url,index_col=0)"
   ]
  },
  {
   "cell_type": "code",
   "execution_count": 2,
   "metadata": {},
   "outputs": [
    {
     "data": {
      "text/plain": [
       "<bound method NDFrame.head of      LocationAbbr    LocationDesc GeographicLevel DataSource  \\\n",
       "Year                                                           \n",
       "2019           AK  Aleutians East          County       NVSS   \n",
       "2019           AK  Aleutians West          County       NVSS   \n",
       "2019           AK       Anchorage          County       NVSS   \n",
       "2019           AK          Bethel          County       NVSS   \n",
       "2019           AK     Bristol Bay          County       NVSS   \n",
       "...           ...             ...             ...        ...   \n",
       "2019           WY         Wyoming           State       NVSS   \n",
       "2019           WY         Wyoming           State       NVSS   \n",
       "2019           WY         Wyoming           State       NVSS   \n",
       "2019           WY         Wyoming           State       NVSS   \n",
       "2019           WY         Wyoming           State       NVSS   \n",
       "\n",
       "                        Class                    Topic  Data_Value  \\\n",
       "Year                                                                 \n",
       "2019  Cardiovascular Diseases  Heart Disease Mortality       182.4   \n",
       "2019  Cardiovascular Diseases  Heart Disease Mortality       172.6   \n",
       "2019  Cardiovascular Diseases  Heart Disease Mortality       255.6   \n",
       "2019  Cardiovascular Diseases  Heart Disease Mortality       343.4   \n",
       "2019  Cardiovascular Diseases  Heart Disease Mortality         NaN   \n",
       "...                       ...                      ...         ...   \n",
       "2019  Cardiovascular Diseases  Heart Disease Mortality         NaN   \n",
       "2019  Cardiovascular Diseases  Heart Disease Mortality         NaN   \n",
       "2019  Cardiovascular Diseases  Heart Disease Mortality       338.4   \n",
       "2019  Cardiovascular Diseases  Heart Disease Mortality       432.2   \n",
       "2019  Cardiovascular Diseases  Heart Disease Mortality         NaN   \n",
       "\n",
       "             Data_Value_Unit  \\\n",
       "Year                           \n",
       "2019  per 100,000 population   \n",
       "2019  per 100,000 population   \n",
       "2019  per 100,000 population   \n",
       "2019  per 100,000 population   \n",
       "2019  per 100,000 population   \n",
       "...                      ...   \n",
       "2019  per 100,000 population   \n",
       "2019  per 100,000 population   \n",
       "2019  per 100,000 population   \n",
       "2019  per 100,000 population   \n",
       "2019  per 100,000 population   \n",
       "\n",
       "                                        Data_Value_Type  \\\n",
       "Year                                                      \n",
       "2019  Age-adjusted, Spatially Smoothed, 3-year Avera...   \n",
       "2019  Age-adjusted, Spatially Smoothed, 3-year Avera...   \n",
       "2019  Age-adjusted, Spatially Smoothed, 3-year Avera...   \n",
       "2019  Age-adjusted, Spatially Smoothed, 3-year Avera...   \n",
       "2019  Age-adjusted, Spatially Smoothed, 3-year Avera...   \n",
       "...                                                 ...   \n",
       "2019                  Age-adjusted, 3-year Average Rate   \n",
       "2019                  Age-adjusted, 3-year Average Rate   \n",
       "2019                  Age-adjusted, 3-year Average Rate   \n",
       "2019                  Age-adjusted, 3-year Average Rate   \n",
       "2019                  Age-adjusted, 3-year Average Rate   \n",
       "\n",
       "     Data_Value_Footnote_Symbol Data_Value_Footnote StratificationCategory1  \\\n",
       "Year                                                                          \n",
       "2019                        NaN                 NaN                     Sex   \n",
       "2019                        NaN                 NaN                     Sex   \n",
       "2019                        NaN                 NaN                     Sex   \n",
       "2019                        NaN                 NaN                     Sex   \n",
       "2019                          ~   Insufficient Data                     Sex   \n",
       "...                         ...                 ...                     ...   \n",
       "2019                          ~   Insufficient Data                     Sex   \n",
       "2019                          ~   Insufficient Data                     Sex   \n",
       "2019                        NaN                 NaN                     Sex   \n",
       "2019                        NaN                 NaN                     Sex   \n",
       "2019                          ~   Insufficient Data                     Sex   \n",
       "\n",
       "     Stratification1 StratificationCategory2  \\\n",
       "Year                                           \n",
       "2019         Overall          Race/Ethnicity   \n",
       "2019         Overall          Race/Ethnicity   \n",
       "2019         Overall          Race/Ethnicity   \n",
       "2019         Overall          Race/Ethnicity   \n",
       "2019         Overall          Race/Ethnicity   \n",
       "...              ...                     ...   \n",
       "2019            Male          Race/Ethnicity   \n",
       "2019          Female          Race/Ethnicity   \n",
       "2019         Overall          Race/Ethnicity   \n",
       "2019            Male          Race/Ethnicity   \n",
       "2019          Female          Race/Ethnicity   \n",
       "\n",
       "                         Stratification2 TopicID  LocationID      Y_lat  \\\n",
       "Year                                                                      \n",
       "2019                             Overall      T2        2013  55.442393   \n",
       "2019                             Overall      T2        2016  53.648343   \n",
       "2019                             Overall      T2        2020  61.159145   \n",
       "2019                             Overall      T2        2050  60.923648   \n",
       "2019                             Overall      T2        2060  58.753496   \n",
       "...                                  ...     ...         ...        ...   \n",
       "2019          Asian and Pacific Islander      T2          56  42.998400   \n",
       "2019          Asian and Pacific Islander      T2          56  42.998400   \n",
       "2019  American Indian and Alaskan Native      T2          56  42.998400   \n",
       "2019  American Indian and Alaskan Native      T2          56  42.998400   \n",
       "2019  American Indian and Alaskan Native      T2          56  42.998400   \n",
       "\n",
       "           X_lon  \n",
       "Year              \n",
       "2019 -161.959930  \n",
       "2019 -166.917533  \n",
       "2019 -149.104559  \n",
       "2019 -159.753262  \n",
       "2019 -156.694662  \n",
       "...          ...  \n",
       "2019 -107.552000  \n",
       "2019 -107.552000  \n",
       "2019 -107.552000  \n",
       "2019 -107.552000  \n",
       "2019 -107.552000  \n",
       "\n",
       "[59094 rows x 19 columns]>"
      ]
     },
     "execution_count": 2,
     "metadata": {},
     "output_type": "execute_result"
    }
   ],
   "source": [
    "heart_df.head"
   ]
  },
  {
   "cell_type": "code",
   "execution_count": 3,
   "metadata": {},
   "outputs": [
    {
     "name": "stdout",
     "output_type": "stream",
     "text": [
      "<class 'pandas.core.frame.DataFrame'>\n",
      "Index: 59094 entries, 2019 to 2019\n",
      "Data columns (total 19 columns):\n",
      " #   Column                      Non-Null Count  Dtype  \n",
      "---  ------                      --------------  -----  \n",
      " 0   LocationAbbr                59094 non-null  object \n",
      " 1   LocationDesc                59094 non-null  object \n",
      " 2   GeographicLevel             59094 non-null  object \n",
      " 3   DataSource                  59094 non-null  object \n",
      " 4   Class                       59094 non-null  object \n",
      " 5   Topic                       59094 non-null  object \n",
      " 6   Data_Value                  33087 non-null  float64\n",
      " 7   Data_Value_Unit             59094 non-null  object \n",
      " 8   Data_Value_Type             59094 non-null  object \n",
      " 9   Data_Value_Footnote_Symbol  26007 non-null  object \n",
      " 10  Data_Value_Footnote         26007 non-null  object \n",
      " 11  StratificationCategory1     59094 non-null  object \n",
      " 12  Stratification1             59094 non-null  object \n",
      " 13  StratificationCategory2     59094 non-null  object \n",
      " 14  Stratification2             59094 non-null  object \n",
      " 15  TopicID                     59094 non-null  object \n",
      " 16  LocationID                  59094 non-null  int64  \n",
      " 17  Y_lat                       59076 non-null  float64\n",
      " 18  X_lon                       59076 non-null  float64\n",
      "dtypes: float64(3), int64(1), object(15)\n",
      "memory usage: 9.0+ MB\n"
     ]
    }
   ],
   "source": [
    "heart_df.info()"
   ]
  },
  {
   "cell_type": "code",
   "execution_count": 11,
   "metadata": {},
   "outputs": [
    {
     "data": {
      "text/html": [
       "<div>\n",
       "<style scoped>\n",
       "    .dataframe tbody tr th:only-of-type {\n",
       "        vertical-align: middle;\n",
       "    }\n",
       "\n",
       "    .dataframe tbody tr th {\n",
       "        vertical-align: top;\n",
       "    }\n",
       "\n",
       "    .dataframe thead th {\n",
       "        text-align: right;\n",
       "    }\n",
       "</style>\n",
       "<table border=\"1\" class=\"dataframe\">\n",
       "  <thead>\n",
       "    <tr style=\"text-align: right;\">\n",
       "      <th></th>\n",
       "      <th>Year</th>\n",
       "      <th>LocationAbbr</th>\n",
       "      <th>LocationDesc</th>\n",
       "      <th>GeographicLevel</th>\n",
       "      <th>DataSource</th>\n",
       "      <th>Class</th>\n",
       "      <th>Topic</th>\n",
       "      <th>Data_Value</th>\n",
       "      <th>Data_Value_Unit</th>\n",
       "      <th>Data_Value_Type</th>\n",
       "      <th>Data_Value_Footnote_Symbol</th>\n",
       "      <th>Data_Value_Footnote</th>\n",
       "      <th>StratificationCategory1</th>\n",
       "      <th>Stratification1</th>\n",
       "      <th>StratificationCategory2</th>\n",
       "      <th>Stratification2</th>\n",
       "      <th>TopicID</th>\n",
       "      <th>LocationID</th>\n",
       "      <th>Y_lat</th>\n",
       "      <th>X_lon</th>\n",
       "    </tr>\n",
       "  </thead>\n",
       "  <tbody>\n",
       "    <tr>\n",
       "      <th>0</th>\n",
       "      <td>2019</td>\n",
       "      <td>AK</td>\n",
       "      <td>Aleutians East</td>\n",
       "      <td>County</td>\n",
       "      <td>NVSS</td>\n",
       "      <td>Cardiovascular Diseases</td>\n",
       "      <td>Heart Disease Mortality</td>\n",
       "      <td>182.4</td>\n",
       "      <td>per 100,000 population</td>\n",
       "      <td>Age-adjusted, Spatially Smoothed, 3-year Avera...</td>\n",
       "      <td>NaN</td>\n",
       "      <td>NaN</td>\n",
       "      <td>Sex</td>\n",
       "      <td>Overall</td>\n",
       "      <td>Race/Ethnicity</td>\n",
       "      <td>Overall</td>\n",
       "      <td>T2</td>\n",
       "      <td>2013</td>\n",
       "      <td>55.442393</td>\n",
       "      <td>-161.959930</td>\n",
       "    </tr>\n",
       "    <tr>\n",
       "      <th>1</th>\n",
       "      <td>2019</td>\n",
       "      <td>AK</td>\n",
       "      <td>Aleutians West</td>\n",
       "      <td>County</td>\n",
       "      <td>NVSS</td>\n",
       "      <td>Cardiovascular Diseases</td>\n",
       "      <td>Heart Disease Mortality</td>\n",
       "      <td>172.6</td>\n",
       "      <td>per 100,000 population</td>\n",
       "      <td>Age-adjusted, Spatially Smoothed, 3-year Avera...</td>\n",
       "      <td>NaN</td>\n",
       "      <td>NaN</td>\n",
       "      <td>Sex</td>\n",
       "      <td>Overall</td>\n",
       "      <td>Race/Ethnicity</td>\n",
       "      <td>Overall</td>\n",
       "      <td>T2</td>\n",
       "      <td>2016</td>\n",
       "      <td>53.648343</td>\n",
       "      <td>-166.917533</td>\n",
       "    </tr>\n",
       "    <tr>\n",
       "      <th>2</th>\n",
       "      <td>2019</td>\n",
       "      <td>AK</td>\n",
       "      <td>Anchorage</td>\n",
       "      <td>County</td>\n",
       "      <td>NVSS</td>\n",
       "      <td>Cardiovascular Diseases</td>\n",
       "      <td>Heart Disease Mortality</td>\n",
       "      <td>255.6</td>\n",
       "      <td>per 100,000 population</td>\n",
       "      <td>Age-adjusted, Spatially Smoothed, 3-year Avera...</td>\n",
       "      <td>NaN</td>\n",
       "      <td>NaN</td>\n",
       "      <td>Sex</td>\n",
       "      <td>Overall</td>\n",
       "      <td>Race/Ethnicity</td>\n",
       "      <td>Overall</td>\n",
       "      <td>T2</td>\n",
       "      <td>2020</td>\n",
       "      <td>61.159145</td>\n",
       "      <td>-149.104559</td>\n",
       "    </tr>\n",
       "    <tr>\n",
       "      <th>3</th>\n",
       "      <td>2019</td>\n",
       "      <td>AK</td>\n",
       "      <td>Bethel</td>\n",
       "      <td>County</td>\n",
       "      <td>NVSS</td>\n",
       "      <td>Cardiovascular Diseases</td>\n",
       "      <td>Heart Disease Mortality</td>\n",
       "      <td>343.4</td>\n",
       "      <td>per 100,000 population</td>\n",
       "      <td>Age-adjusted, Spatially Smoothed, 3-year Avera...</td>\n",
       "      <td>NaN</td>\n",
       "      <td>NaN</td>\n",
       "      <td>Sex</td>\n",
       "      <td>Overall</td>\n",
       "      <td>Race/Ethnicity</td>\n",
       "      <td>Overall</td>\n",
       "      <td>T2</td>\n",
       "      <td>2050</td>\n",
       "      <td>60.923648</td>\n",
       "      <td>-159.753262</td>\n",
       "    </tr>\n",
       "    <tr>\n",
       "      <th>4</th>\n",
       "      <td>2019</td>\n",
       "      <td>AK</td>\n",
       "      <td>Bristol Bay</td>\n",
       "      <td>County</td>\n",
       "      <td>NVSS</td>\n",
       "      <td>Cardiovascular Diseases</td>\n",
       "      <td>Heart Disease Mortality</td>\n",
       "      <td>NaN</td>\n",
       "      <td>per 100,000 population</td>\n",
       "      <td>Age-adjusted, Spatially Smoothed, 3-year Avera...</td>\n",
       "      <td>~</td>\n",
       "      <td>Insufficient Data</td>\n",
       "      <td>Sex</td>\n",
       "      <td>Overall</td>\n",
       "      <td>Race/Ethnicity</td>\n",
       "      <td>Overall</td>\n",
       "      <td>T2</td>\n",
       "      <td>2060</td>\n",
       "      <td>58.753496</td>\n",
       "      <td>-156.694662</td>\n",
       "    </tr>\n",
       "  </tbody>\n",
       "</table>\n",
       "</div>"
      ],
      "text/plain": [
       "   Year LocationAbbr    LocationDesc GeographicLevel DataSource  \\\n",
       "0  2019           AK  Aleutians East          County       NVSS   \n",
       "1  2019           AK  Aleutians West          County       NVSS   \n",
       "2  2019           AK       Anchorage          County       NVSS   \n",
       "3  2019           AK          Bethel          County       NVSS   \n",
       "4  2019           AK     Bristol Bay          County       NVSS   \n",
       "\n",
       "                     Class                    Topic  Data_Value  \\\n",
       "0  Cardiovascular Diseases  Heart Disease Mortality       182.4   \n",
       "1  Cardiovascular Diseases  Heart Disease Mortality       172.6   \n",
       "2  Cardiovascular Diseases  Heart Disease Mortality       255.6   \n",
       "3  Cardiovascular Diseases  Heart Disease Mortality       343.4   \n",
       "4  Cardiovascular Diseases  Heart Disease Mortality         NaN   \n",
       "\n",
       "          Data_Value_Unit                                    Data_Value_Type  \\\n",
       "0  per 100,000 population  Age-adjusted, Spatially Smoothed, 3-year Avera...   \n",
       "1  per 100,000 population  Age-adjusted, Spatially Smoothed, 3-year Avera...   \n",
       "2  per 100,000 population  Age-adjusted, Spatially Smoothed, 3-year Avera...   \n",
       "3  per 100,000 population  Age-adjusted, Spatially Smoothed, 3-year Avera...   \n",
       "4  per 100,000 population  Age-adjusted, Spatially Smoothed, 3-year Avera...   \n",
       "\n",
       "  Data_Value_Footnote_Symbol Data_Value_Footnote StratificationCategory1  \\\n",
       "0                        NaN                 NaN                     Sex   \n",
       "1                        NaN                 NaN                     Sex   \n",
       "2                        NaN                 NaN                     Sex   \n",
       "3                        NaN                 NaN                     Sex   \n",
       "4                          ~   Insufficient Data                     Sex   \n",
       "\n",
       "  Stratification1 StratificationCategory2 Stratification2 TopicID  LocationID  \\\n",
       "0         Overall          Race/Ethnicity         Overall      T2        2013   \n",
       "1         Overall          Race/Ethnicity         Overall      T2        2016   \n",
       "2         Overall          Race/Ethnicity         Overall      T2        2020   \n",
       "3         Overall          Race/Ethnicity         Overall      T2        2050   \n",
       "4         Overall          Race/Ethnicity         Overall      T2        2060   \n",
       "\n",
       "       Y_lat       X_lon  \n",
       "0  55.442393 -161.959930  \n",
       "1  53.648343 -166.917533  \n",
       "2  61.159145 -149.104559  \n",
       "3  60.923648 -159.753262  \n",
       "4  58.753496 -156.694662  "
      ]
     },
     "execution_count": 11,
     "metadata": {},
     "output_type": "execute_result"
    }
   ],
   "source": [
    "heart_df = pd.read_csv('C:/Users/chocm/Desktop/Gitsutff/lowcodeai/Heart_Disease_Mortality.csv',engine=\"python\")\n",
    "heart_df.head()"
   ]
  },
  {
   "cell_type": "code",
   "execution_count": 12,
   "metadata": {},
   "outputs": [
    {
     "data": {
      "text/plain": [
       "Year                              0\n",
       "LocationAbbr                      0\n",
       "LocationDesc                      0\n",
       "GeographicLevel                   0\n",
       "DataSource                        0\n",
       "Class                             0\n",
       "Topic                             0\n",
       "Data_Value                    26007\n",
       "Data_Value_Unit                   0\n",
       "Data_Value_Type                   0\n",
       "Data_Value_Footnote_Symbol    33087\n",
       "Data_Value_Footnote           33087\n",
       "StratificationCategory1           0\n",
       "Stratification1                   0\n",
       "StratificationCategory2           0\n",
       "Stratification2                   0\n",
       "TopicID                           0\n",
       "LocationID                        0\n",
       "Y_lat                            18\n",
       "X_lon                            18\n",
       "dtype: int64"
      ]
     },
     "execution_count": 12,
     "metadata": {},
     "output_type": "execute_result"
    }
   ],
   "source": [
    "heart_df.isnull().sum()"
   ]
  },
  {
   "cell_type": "code",
   "execution_count": 13,
   "metadata": {},
   "outputs": [
    {
     "data": {
      "text/plain": [
       "array(['Overall', 'White', 'Asian and Pacific Islander', 'Black',\n",
       "       'Hispanic', 'American Indian and Alaskan Native'], dtype=object)"
      ]
     },
     "execution_count": 13,
     "metadata": {},
     "output_type": "execute_result"
    }
   ],
   "source": [
    "heart_df.Stratification2.unique()"
   ]
  },
  {
   "cell_type": "code",
   "execution_count": 16,
   "metadata": {},
   "outputs": [
    {
     "data": {
      "text/plain": [
       "<Axes: xlabel='Data_Value', ylabel='Stratification2'>"
      ]
     },
     "execution_count": 16,
     "metadata": {},
     "output_type": "execute_result"
    },
    {
     "data": {
      "image/png": "[encoded data removed]",
      "text/plain": [
       "<Figure size 640x480 with 1 Axes>"
      ]
     },
     "metadata": {},
     "output_type": "display_data"
    }
   ],
   "source": [
    "import seaborn as sns\n",
    "sns.violinplot(x=\"Data_Value\",y=\"Stratification2\",data=heart_df)"
   ]
  },
  {
   "cell_type": "code",
   "execution_count": 17,
   "metadata": {},
   "outputs": [
    {
     "data": {
      "text/plain": [
       "<seaborn.axisgrid.FacetGrid at 0x1f0bc079a90>"
      ]
     },
     "execution_count": 17,
     "metadata": {},
     "output_type": "execute_result"
    },
    {
     "data": {
      "image/png": "[encoded data removed]",
      "text/plain": [
       "<Figure size 500x500 with 1 Axes>"
      ]
     },
     "metadata": {},
     "output_type": "display_data"
    }
   ],
   "source": [
    "sns.displot(heart_df['Data_Value'])"
   ]
  }
 ],
 "metadata": {
  "kernelspec": {
   "display_name": "Python 3",
   "language": "python",
   "name": "python3"
  },
  "language_info": {
   "codemirror_mode": {
    "name": "ipython",
    "version": 3
   },
   "file_extension": ".py",
   "mimetype": "text/x-python",
   "name": "python",
   "nbconvert_exporter": "python",
   "pygments_lexer": "ipython3",
   "version": "3.11.9"
  }
 },
 "nbformat": 4,
 "nbformat_minor": 2
}
