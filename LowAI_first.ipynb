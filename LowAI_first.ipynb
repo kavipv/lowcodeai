{
  "nbformat": 4,
  "nbformat_minor": 0,
  "metadata": {
    "colab": {
      "provenance": [],
      "toc_visible": true,
      "authorship_tag": "ABX9TyPqpi+BZ0xtFVj0VA0FFNIX",
      "include_colab_link": true
    },
    "kernelspec": {
      "name": "python3",
      "display_name": "Python 3"
    },
    "language_info": {
      "name": "python"
    }
  },
  "cells": [
    {
      "cell_type": "markdown",
      "metadata": {
        "id": "view-in-github",
        "colab_type": "text"
      },
      "source": [
        "<a href=\"https://colab.research.google.com/github/mandus/lowcodeai/blob/main/LowAI_first.ipynb\" target=\"_parent\"><img src=\"https://colab.research.google.com/assets/colab-badge.svg\" alt=\"Open In Colab\"/></a>"
      ]
    },
    {
      "cell_type": "code",
      "execution_count": null,
      "metadata": {
        "id": "J72qZRdg9-L8"
      },
      "outputs": [],
      "source": [
        "# for the lowcode AI book"
      ]
    },
    {
      "cell_type": "markdown",
      "source": [
        "# chapter 2"
      ],
      "metadata": {
        "id": "gu4O0Rct-maR"
      }
    },
    {
      "cell_type": "code",
      "source": [
        "import pandas as pd"
      ],
      "metadata": {
        "id": "q_k32QGp-3Ei"
      },
      "execution_count": 19,
      "outputs": []
    },
    {
      "cell_type": "code",
      "source": [
        "url = \"https://data.cdc.gov/api/views/jiwm-ppbh/rows.csv?accessType=DOWNLOAD\"\n",
        "heart_df = pd.read_csv(url, index_col=0)"
      ],
      "metadata": {
        "id": "u7jTpZi--_MM"
      },
      "execution_count": 20,
      "outputs": []
    },
    {
      "cell_type": "code",
      "source": [
        "heart_df.info()"
      ],
      "metadata": {
        "colab": {
          "base_uri": "https://localhost:8080/"
        },
        "id": "23VgytQm_1Mp",
        "outputId": "62c39138-f01f-400b-e0cb-432b953f97fc"
      },
      "execution_count": 21,
      "outputs": [
        {
          "output_type": "stream",
          "name": "stdout",
          "text": [
            "<class 'pandas.core.frame.DataFrame'>\n",
            "Int64Index: 59094 entries, 2019 to 2019\n",
            "Data columns (total 19 columns):\n",
            " #   Column                      Non-Null Count  Dtype  \n",
            "---  ------                      --------------  -----  \n",
            " 0   LocationAbbr                59094 non-null  object \n",
            " 1   LocationDesc                59094 non-null  object \n",
            " 2   GeographicLevel             59094 non-null  object \n",
            " 3   DataSource                  59094 non-null  object \n",
            " 4   Class                       59094 non-null  object \n",
            " 5   Topic                       59094 non-null  object \n",
            " 6   Data_Value                  33087 non-null  float64\n",
            " 7   Data_Value_Unit             59094 non-null  object \n",
            " 8   Data_Value_Type             59094 non-null  object \n",
            " 9   Data_Value_Footnote_Symbol  26007 non-null  object \n",
            " 10  Data_Value_Footnote         26007 non-null  object \n",
            " 11  StratificationCategory1     59094 non-null  object \n",
            " 12  Stratification1             59094 non-null  object \n",
            " 13  StratificationCategory2     59094 non-null  object \n",
            " 14  Stratification2             59094 non-null  object \n",
            " 15  TopicID                     59094 non-null  object \n",
            " 16  LocationID                  59094 non-null  int64  \n",
            " 17  Y_lat                       59076 non-null  float64\n",
            " 18  X_lon                       59076 non-null  float64\n",
            "dtypes: float64(3), int64(1), object(15)\n",
            "memory usage: 9.0+ MB\n"
          ]
        }
      ]
    },
    {
      "cell_type": "code",
      "source": [
        "heart_df.head()"
      ],
      "metadata": {
        "colab": {
          "base_uri": "https://localhost:8080/",
          "height": 431
        },
        "id": "pwe2Pzzc_5wG",
        "outputId": "961b66f5-03fe-4e4c-a47d-e94906ffb0d1"
      },
      "execution_count": 22,
      "outputs": [
        {
          "output_type": "execute_result",
          "data": {
            "text/plain": [
              "     LocationAbbr    LocationDesc GeographicLevel DataSource  \\\n",
              "Year                                                           \n",
              "2019           AK  Aleutians East          County       NVSS   \n",
              "2019           AK  Aleutians West          County       NVSS   \n",
              "2019           AK       Anchorage          County       NVSS   \n",
              "2019           AK          Bethel          County       NVSS   \n",
              "2019           AK     Bristol Bay          County       NVSS   \n",
              "\n",
              "                        Class                    Topic  Data_Value  \\\n",
              "Year                                                                 \n",
              "2019  Cardiovascular Diseases  Heart Disease Mortality       182.4   \n",
              "2019  Cardiovascular Diseases  Heart Disease Mortality       172.6   \n",
              "2019  Cardiovascular Diseases  Heart Disease Mortality       255.6   \n",
              "2019  Cardiovascular Diseases  Heart Disease Mortality       343.4   \n",
              "2019  Cardiovascular Diseases  Heart Disease Mortality         NaN   \n",
              "\n",
              "             Data_Value_Unit  \\\n",
              "Year                           \n",
              "2019  per 100,000 population   \n",
              "2019  per 100,000 population   \n",
              "2019  per 100,000 population   \n",
              "2019  per 100,000 population   \n",
              "2019  per 100,000 population   \n",
              "\n",
              "                                        Data_Value_Type  \\\n",
              "Year                                                      \n",
              "2019  Age-adjusted, Spatially Smoothed, 3-year Avera...   \n",
              "2019  Age-adjusted, Spatially Smoothed, 3-year Avera...   \n",
              "2019  Age-adjusted, Spatially Smoothed, 3-year Avera...   \n",
              "2019  Age-adjusted, Spatially Smoothed, 3-year Avera...   \n",
              "2019  Age-adjusted, Spatially Smoothed, 3-year Avera...   \n",
              "\n",
              "     Data_Value_Footnote_Symbol Data_Value_Footnote StratificationCategory1  \\\n",
              "Year                                                                          \n",
              "2019                        NaN                 NaN                  Gender   \n",
              "2019                        NaN                 NaN                  Gender   \n",
              "2019                        NaN                 NaN                  Gender   \n",
              "2019                        NaN                 NaN                  Gender   \n",
              "2019                          ~   Insufficient Data                  Gender   \n",
              "\n",
              "     Stratification1 StratificationCategory2 Stratification2 TopicID  \\\n",
              "Year                                                                   \n",
              "2019         Overall          Race/Ethnicity         Overall      T2   \n",
              "2019         Overall          Race/Ethnicity         Overall      T2   \n",
              "2019         Overall          Race/Ethnicity         Overall      T2   \n",
              "2019         Overall          Race/Ethnicity         Overall      T2   \n",
              "2019         Overall          Race/Ethnicity         Overall      T2   \n",
              "\n",
              "      LocationID      Y_lat       X_lon  \n",
              "Year                                     \n",
              "2019        2013  55.442393 -161.959930  \n",
              "2019        2016  53.648343 -166.917533  \n",
              "2019        2020  61.159145 -149.104559  \n",
              "2019        2050  60.923648 -159.753262  \n",
              "2019        2060  58.753496 -156.694662  "
            ],
            "text/html": [
              "\n",
              "  <div id=\"df-f491951c-3b6c-4522-af7c-7f9cbc310809\" class=\"colab-df-container\">\n",
              "    <div>\n",
              "<style scoped>\n",
              "    .dataframe tbody tr th:only-of-type {\n",
              "        vertical-align: middle;\n",
              "    }\n",
              "\n",
              "    .dataframe tbody tr th {\n",
              "        vertical-align: top;\n",
              "    }\n",
              "\n",
              "    .dataframe thead th {\n",
              "        text-align: right;\n",
              "    }\n",
              "</style>\n",
              "<table border=\"1\" class=\"dataframe\">\n",
              "  <thead>\n",
              "    <tr style=\"text-align: right;\">\n",
              "      <th></th>\n",
              "      <th>LocationAbbr</th>\n",
              "      <th>LocationDesc</th>\n",
              "      <th>GeographicLevel</th>\n",
              "      <th>DataSource</th>\n",
              "      <th>Class</th>\n",
              "      <th>Topic</th>\n",
              "      <th>Data_Value</th>\n",
              "      <th>Data_Value_Unit</th>\n",
              "      <th>Data_Value_Type</th>\n",
              "      <th>Data_Value_Footnote_Symbol</th>\n",
              "      <th>Data_Value_Footnote</th>\n",
              "      <th>StratificationCategory1</th>\n",
              "      <th>Stratification1</th>\n",
              "      <th>StratificationCategory2</th>\n",
              "      <th>Stratification2</th>\n",
              "      <th>TopicID</th>\n",
              "      <th>LocationID</th>\n",
              "      <th>Y_lat</th>\n",
              "      <th>X_lon</th>\n",
              "    </tr>\n",
              "    <tr>\n",
              "      <th>Year</th>\n",
              "      <th></th>\n",
              "      <th></th>\n",
              "      <th></th>\n",
              "      <th></th>\n",
              "      <th></th>\n",
              "      <th></th>\n",
              "      <th></th>\n",
              "      <th></th>\n",
              "      <th></th>\n",
              "      <th></th>\n",
              "      <th></th>\n",
              "      <th></th>\n",
              "      <th></th>\n",
              "      <th></th>\n",
              "      <th></th>\n",
              "      <th></th>\n",
              "      <th></th>\n",
              "      <th></th>\n",
              "      <th></th>\n",
              "    </tr>\n",
              "  </thead>\n",
              "  <tbody>\n",
              "    <tr>\n",
              "      <th>2019</th>\n",
              "      <td>AK</td>\n",
              "      <td>Aleutians East</td>\n",
              "      <td>County</td>\n",
              "      <td>NVSS</td>\n",
              "      <td>Cardiovascular Diseases</td>\n",
              "      <td>Heart Disease Mortality</td>\n",
              "      <td>182.4</td>\n",
              "      <td>per 100,000 population</td>\n",
              "      <td>Age-adjusted, Spatially Smoothed, 3-year Avera...</td>\n",
              "      <td>NaN</td>\n",
              "      <td>NaN</td>\n",
              "      <td>Gender</td>\n",
              "      <td>Overall</td>\n",
              "      <td>Race/Ethnicity</td>\n",
              "      <td>Overall</td>\n",
              "      <td>T2</td>\n",
              "      <td>2013</td>\n",
              "      <td>55.442393</td>\n",
              "      <td>-161.959930</td>\n",
              "    </tr>\n",
              "    <tr>\n",
              "      <th>2019</th>\n",
              "      <td>AK</td>\n",
              "      <td>Aleutians West</td>\n",
              "      <td>County</td>\n",
              "      <td>NVSS</td>\n",
              "      <td>Cardiovascular Diseases</td>\n",
              "      <td>Heart Disease Mortality</td>\n",
              "      <td>172.6</td>\n",
              "      <td>per 100,000 population</td>\n",
              "      <td>Age-adjusted, Spatially Smoothed, 3-year Avera...</td>\n",
              "      <td>NaN</td>\n",
              "      <td>NaN</td>\n",
              "      <td>Gender</td>\n",
              "      <td>Overall</td>\n",
              "      <td>Race/Ethnicity</td>\n",
              "      <td>Overall</td>\n",
              "      <td>T2</td>\n",
              "      <td>2016</td>\n",
              "      <td>53.648343</td>\n",
              "      <td>-166.917533</td>\n",
              "    </tr>\n",
              "    <tr>\n",
              "      <th>2019</th>\n",
              "      <td>AK</td>\n",
              "      <td>Anchorage</td>\n",
              "      <td>County</td>\n",
              "      <td>NVSS</td>\n",
              "      <td>Cardiovascular Diseases</td>\n",
              "      <td>Heart Disease Mortality</td>\n",
              "      <td>255.6</td>\n",
              "      <td>per 100,000 population</td>\n",
              "      <td>Age-adjusted, Spatially Smoothed, 3-year Avera...</td>\n",
              "      <td>NaN</td>\n",
              "      <td>NaN</td>\n",
              "      <td>Gender</td>\n",
              "      <td>Overall</td>\n",
              "      <td>Race/Ethnicity</td>\n",
              "      <td>Overall</td>\n",
              "      <td>T2</td>\n",
              "      <td>2020</td>\n",
              "      <td>61.159145</td>\n",
              "      <td>-149.104559</td>\n",
              "    </tr>\n",
              "    <tr>\n",
              "      <th>2019</th>\n",
              "      <td>AK</td>\n",
              "      <td>Bethel</td>\n",
              "      <td>County</td>\n",
              "      <td>NVSS</td>\n",
              "      <td>Cardiovascular Diseases</td>\n",
              "      <td>Heart Disease Mortality</td>\n",
              "      <td>343.4</td>\n",
              "      <td>per 100,000 population</td>\n",
              "      <td>Age-adjusted, Spatially Smoothed, 3-year Avera...</td>\n",
              "      <td>NaN</td>\n",
              "      <td>NaN</td>\n",
              "      <td>Gender</td>\n",
              "      <td>Overall</td>\n",
              "      <td>Race/Ethnicity</td>\n",
              "      <td>Overall</td>\n",
              "      <td>T2</td>\n",
              "      <td>2050</td>\n",
              "      <td>60.923648</td>\n",
              "      <td>-159.753262</td>\n",
              "    </tr>\n",
              "    <tr>\n",
              "      <th>2019</th>\n",
              "      <td>AK</td>\n",
              "      <td>Bristol Bay</td>\n",
              "      <td>County</td>\n",
              "      <td>NVSS</td>\n",
              "      <td>Cardiovascular Diseases</td>\n",
              "      <td>Heart Disease Mortality</td>\n",
              "      <td>NaN</td>\n",
              "      <td>per 100,000 population</td>\n",
              "      <td>Age-adjusted, Spatially Smoothed, 3-year Avera...</td>\n",
              "      <td>~</td>\n",
              "      <td>Insufficient Data</td>\n",
              "      <td>Gender</td>\n",
              "      <td>Overall</td>\n",
              "      <td>Race/Ethnicity</td>\n",
              "      <td>Overall</td>\n",
              "      <td>T2</td>\n",
              "      <td>2060</td>\n",
              "      <td>58.753496</td>\n",
              "      <td>-156.694662</td>\n",
              "    </tr>\n",
              "  </tbody>\n",
              "</table>\n",
              "</div>\n",
              "    <div class=\"colab-df-buttons\">\n",
              "\n",
              "  <div class=\"colab-df-container\">\n",
              "    <button class=\"colab-df-convert\" onclick=\"convertToInteractive('df-f491951c-3b6c-4522-af7c-7f9cbc310809')\"\n",
              "            title=\"Convert this dataframe to an interactive table.\"\n",
              "            style=\"display:none;\">\n",
              "\n",
              "  <svg xmlns=\"http://www.w3.org/2000/svg\" height=\"24px\" viewBox=\"0 -960 960 960\">\n",
              "    <path d=\"M120-120v-720h720v720H120Zm60-500h600v-160H180v160Zm220 220h160v-160H400v160Zm0 220h160v-160H400v160ZM180-400h160v-160H180v160Zm440 0h160v-160H620v160ZM180-180h160v-160H180v160Zm440 0h160v-160H620v160Z\"/>\n",
              "  </svg>\n",
              "    </button>\n",
              "\n",
              "  <style>\n",
              "    .colab-df-container {\n",
              "      display:flex;\n",
              "      gap: 12px;\n",
              "    }\n",
              "\n",
              "    .colab-df-convert {\n",
              "      background-color: #E8F0FE;\n",
              "      border: none;\n",
              "      border-radius: 50%;\n",
              "      cursor: pointer;\n",
              "      display: none;\n",
              "      fill: #1967D2;\n",
              "      height: 32px;\n",
              "      padding: 0 0 0 0;\n",
              "      width: 32px;\n",
              "    }\n",
              "\n",
              "    .colab-df-convert:hover {\n",
              "      background-color: #E2EBFA;\n",
              "      box-shadow: 0px 1px 2px rgba(60, 64, 67, 0.3), 0px 1px 3px 1px rgba(60, 64, 67, 0.15);\n",
              "      fill: #174EA6;\n",
              "    }\n",
              "\n",
              "    .colab-df-buttons div {\n",
              "      margin-bottom: 4px;\n",
              "    }\n",
              "\n",
              "    [theme=dark] .colab-df-convert {\n",
              "      background-color: #3B4455;\n",
              "      fill: #D2E3FC;\n",
              "    }\n",
              "\n",
              "    [theme=dark] .colab-df-convert:hover {\n",
              "      background-color: #434B5C;\n",
              "      box-shadow: 0px 1px 3px 1px rgba(0, 0, 0, 0.15);\n",
              "      filter: drop-shadow(0px 1px 2px rgba(0, 0, 0, 0.3));\n",
              "      fill: #FFFFFF;\n",
              "    }\n",
              "  </style>\n",
              "\n",
              "    <script>\n",
              "      const buttonEl =\n",
              "        document.querySelector('#df-f491951c-3b6c-4522-af7c-7f9cbc310809 button.colab-df-convert');\n",
              "      buttonEl.style.display =\n",
              "        google.colab.kernel.accessAllowed ? 'block' : 'none';\n",
              "\n",
              "      async function convertToInteractive(key) {\n",
              "        const element = document.querySelector('#df-f491951c-3b6c-4522-af7c-7f9cbc310809');\n",
              "        const dataTable =\n",
              "          await google.colab.kernel.invokeFunction('convertToInteractive',\n",
              "                                                    [key], {});\n",
              "        if (!dataTable) return;\n",
              "\n",
              "        const docLinkHtml = 'Like what you see? Visit the ' +\n",
              "          '<a target=\"_blank\" href=https://colab.research.google.com/notebooks/data_table.ipynb>data table notebook</a>'\n",
              "          + ' to learn more about interactive tables.';\n",
              "        element.innerHTML = '';\n",
              "        dataTable['output_type'] = 'display_data';\n",
              "        await google.colab.output.renderOutput(dataTable, element);\n",
              "        const docLink = document.createElement('div');\n",
              "        docLink.innerHTML = docLinkHtml;\n",
              "        element.appendChild(docLink);\n",
              "      }\n",
              "    </script>\n",
              "  </div>\n",
              "\n",
              "\n",
              "<div id=\"df-6bb5dfdc-8c12-4ce8-ae8b-90adec10e6c3\">\n",
              "  <button class=\"colab-df-quickchart\" onclick=\"quickchart('df-6bb5dfdc-8c12-4ce8-ae8b-90adec10e6c3')\"\n",
              "            title=\"Suggest charts\"\n",
              "            style=\"display:none;\">\n",
              "\n",
              "<svg xmlns=\"http://www.w3.org/2000/svg\" height=\"24px\"viewBox=\"0 0 24 24\"\n",
              "     width=\"24px\">\n",
              "    <g>\n",
              "        <path d=\"M19 3H5c-1.1 0-2 .9-2 2v14c0 1.1.9 2 2 2h14c1.1 0 2-.9 2-2V5c0-1.1-.9-2-2-2zM9 17H7v-7h2v7zm4 0h-2V7h2v10zm4 0h-2v-4h2v4z\"/>\n",
              "    </g>\n",
              "</svg>\n",
              "  </button>\n",
              "\n",
              "<style>\n",
              "  .colab-df-quickchart {\n",
              "      --bg-color: #E8F0FE;\n",
              "      --fill-color: #1967D2;\n",
              "      --hover-bg-color: #E2EBFA;\n",
              "      --hover-fill-color: #174EA6;\n",
              "      --disabled-fill-color: #AAA;\n",
              "      --disabled-bg-color: #DDD;\n",
              "  }\n",
              "\n",
              "  [theme=dark] .colab-df-quickchart {\n",
              "      --bg-color: #3B4455;\n",
              "      --fill-color: #D2E3FC;\n",
              "      --hover-bg-color: #434B5C;\n",
              "      --hover-fill-color: #FFFFFF;\n",
              "      --disabled-bg-color: #3B4455;\n",
              "      --disabled-fill-color: #666;\n",
              "  }\n",
              "\n",
              "  .colab-df-quickchart {\n",
              "    background-color: var(--bg-color);\n",
              "    border: none;\n",
              "    border-radius: 50%;\n",
              "    cursor: pointer;\n",
              "    display: none;\n",
              "    fill: var(--fill-color);\n",
              "    height: 32px;\n",
              "    padding: 0;\n",
              "    width: 32px;\n",
              "  }\n",
              "\n",
              "  .colab-df-quickchart:hover {\n",
              "    background-color: var(--hover-bg-color);\n",
              "    box-shadow: 0 1px 2px rgba(60, 64, 67, 0.3), 0 1px 3px 1px rgba(60, 64, 67, 0.15);\n",
              "    fill: var(--button-hover-fill-color);\n",
              "  }\n",
              "\n",
              "  .colab-df-quickchart-complete:disabled,\n",
              "  .colab-df-quickchart-complete:disabled:hover {\n",
              "    background-color: var(--disabled-bg-color);\n",
              "    fill: var(--disabled-fill-color);\n",
              "    box-shadow: none;\n",
              "  }\n",
              "\n",
              "  .colab-df-spinner {\n",
              "    border: 2px solid var(--fill-color);\n",
              "    border-color: transparent;\n",
              "    border-bottom-color: var(--fill-color);\n",
              "    animation:\n",
              "      spin 1s steps(1) infinite;\n",
              "  }\n",
              "\n",
              "  @keyframes spin {\n",
              "    0% {\n",
              "      border-color: transparent;\n",
              "      border-bottom-color: var(--fill-color);\n",
              "      border-left-color: var(--fill-color);\n",
              "    }\n",
              "    20% {\n",
              "      border-color: transparent;\n",
              "      border-left-color: var(--fill-color);\n",
              "      border-top-color: var(--fill-color);\n",
              "    }\n",
              "    30% {\n",
              "      border-color: transparent;\n",
              "      border-left-color: var(--fill-color);\n",
              "      border-top-color: var(--fill-color);\n",
              "      border-right-color: var(--fill-color);\n",
              "    }\n",
              "    40% {\n",
              "      border-color: transparent;\n",
              "      border-right-color: var(--fill-color);\n",
              "      border-top-color: var(--fill-color);\n",
              "    }\n",
              "    60% {\n",
              "      border-color: transparent;\n",
              "      border-right-color: var(--fill-color);\n",
              "    }\n",
              "    80% {\n",
              "      border-color: transparent;\n",
              "      border-right-color: var(--fill-color);\n",
              "      border-bottom-color: var(--fill-color);\n",
              "    }\n",
              "    90% {\n",
              "      border-color: transparent;\n",
              "      border-bottom-color: var(--fill-color);\n",
              "    }\n",
              "  }\n",
              "</style>\n",
              "\n",
              "  <script>\n",
              "    async function quickchart(key) {\n",
              "      const quickchartButtonEl =\n",
              "        document.querySelector('#' + key + ' button');\n",
              "      quickchartButtonEl.disabled = true;  // To prevent multiple clicks.\n",
              "      quickchartButtonEl.classList.add('colab-df-spinner');\n",
              "      try {\n",
              "        const charts = await google.colab.kernel.invokeFunction(\n",
              "            'suggestCharts', [key], {});\n",
              "      } catch (error) {\n",
              "        console.error('Error during call to suggestCharts:', error);\n",
              "      }\n",
              "      quickchartButtonEl.classList.remove('colab-df-spinner');\n",
              "      quickchartButtonEl.classList.add('colab-df-quickchart-complete');\n",
              "    }\n",
              "    (() => {\n",
              "      let quickchartButtonEl =\n",
              "        document.querySelector('#df-6bb5dfdc-8c12-4ce8-ae8b-90adec10e6c3 button');\n",
              "      quickchartButtonEl.style.display =\n",
              "        google.colab.kernel.accessAllowed ? 'block' : 'none';\n",
              "    })();\n",
              "  </script>\n",
              "</div>\n",
              "    </div>\n",
              "  </div>\n"
            ]
          },
          "metadata": {},
          "execution_count": 22
        }
      ]
    },
    {
      "cell_type": "code",
      "source": [
        "hdf = pd.read_csv('/content/heart.csv', error_bad_lines=False, engine='python')\n",
        "hdf.info()"
      ],
      "metadata": {
        "id": "R1QxusIY3zkj",
        "colab": {
          "base_uri": "https://localhost:8080/"
        },
        "outputId": "9c3e52a8-d074-4f08-edf9-ca390a9675ed"
      },
      "execution_count": 26,
      "outputs": [
        {
          "output_type": "stream",
          "name": "stderr",
          "text": [
            "<ipython-input-26-4ecd3e49efce>:1: FutureWarning: The error_bad_lines argument has been deprecated and will be removed in a future version. Use on_bad_lines in the future.\n",
            "\n",
            "\n",
            "  hdf = pd.read_csv('/content/heart.csv', error_bad_lines=False, engine='python')\n"
          ]
        },
        {
          "output_type": "stream",
          "name": "stdout",
          "text": [
            "<class 'pandas.core.frame.DataFrame'>\n",
            "RangeIndex: 57410 entries, 0 to 57409\n",
            "Data columns (total 19 columns):\n",
            " #   Column                      Non-Null Count  Dtype  \n",
            "---  ------                      --------------  -----  \n",
            " 0   Year                        57410 non-null  int64  \n",
            " 1   LocationAbbr                57410 non-null  object \n",
            " 2   LocationDesc                57410 non-null  object \n",
            " 3   GeographicLevel             57410 non-null  object \n",
            " 4   DataSource                  57410 non-null  object \n",
            " 5   Class                       57410 non-null  object \n",
            " 6   Topic                       57410 non-null  object \n",
            " 7   Data_Value                  31853 non-null  float64\n",
            " 8   Data_Value_Unit             57410 non-null  object \n",
            " 9   Data_Value_Type             57410 non-null  object \n",
            " 10  Data_Value_Footnote_Symbol  25557 non-null  object \n",
            " 11  Data_Value_Footnote         25557 non-null  object \n",
            " 12  StratificationCategory1     57409 non-null  object \n",
            " 13  Stratification1             57409 non-null  object \n",
            " 14  StratificationCategory2     57409 non-null  object \n",
            " 15  Stratification2             57409 non-null  object \n",
            " 16  TopicID                     57409 non-null  object \n",
            " 17  LocationID                  57409 non-null  float64\n",
            " 18  Location 1                  57392 non-null  object \n",
            "dtypes: float64(2), int64(1), object(16)\n",
            "memory usage: 8.3+ MB\n"
          ]
        }
      ]
    },
    {
      "cell_type": "code",
      "source": [
        "hdf.isnull().sum()"
      ],
      "metadata": {
        "id": "FNjK5iweAF36",
        "colab": {
          "base_uri": "https://localhost:8080/"
        },
        "outputId": "d7322212-5974-410c-baf6-34c21a2df724"
      },
      "execution_count": 27,
      "outputs": [
        {
          "output_type": "execute_result",
          "data": {
            "text/plain": [
              "Year                              0\n",
              "LocationAbbr                      0\n",
              "LocationDesc                      0\n",
              "GeographicLevel                   0\n",
              "DataSource                        0\n",
              "Class                             0\n",
              "Topic                             0\n",
              "Data_Value                    25557\n",
              "Data_Value_Unit                   0\n",
              "Data_Value_Type                   0\n",
              "Data_Value_Footnote_Symbol    31853\n",
              "Data_Value_Footnote           31853\n",
              "StratificationCategory1           1\n",
              "Stratification1                   1\n",
              "StratificationCategory2           1\n",
              "Stratification2                   1\n",
              "TopicID                           1\n",
              "LocationID                        1\n",
              "Location 1                       18\n",
              "dtype: int64"
            ]
          },
          "metadata": {},
          "execution_count": 27
        }
      ]
    },
    {
      "cell_type": "code",
      "source": [
        "hdf.Stratification2.unique()"
      ],
      "metadata": {
        "colab": {
          "base_uri": "https://localhost:8080/"
        },
        "id": "MDACe0Qf5vYw",
        "outputId": "9441f9d8-40cd-4782-90b3-77e368f435cc"
      },
      "execution_count": 29,
      "outputs": [
        {
          "output_type": "execute_result",
          "data": {
            "text/plain": [
              "array(['Overall', 'White', 'Black', 'Hispanic',\n",
              "       'Asian and Pacific Islander', 'American Indian and Alaskan Native',\n",
              "       None], dtype=object)"
            ]
          },
          "metadata": {},
          "execution_count": 29
        }
      ]
    },
    {
      "cell_type": "code",
      "source": [
        "import seaborn as sns\n",
        "sns.violinplot(x=\"Data_Value\", y=\"Stratification2\", data=hdf)"
      ],
      "metadata": {
        "id": "sQrAmzM46G6w",
        "colab": {
          "base_uri": "https://localhost:8080/",
          "height": 467
        },
        "outputId": "6a1360cb-0680-4449-8559-1d47b4a07867"
      },
      "execution_count": 31,
      "outputs": [
        {
          "output_type": "execute_result",
          "data": {
            "text/plain": [
              "<Axes: xlabel='Data_Value', ylabel='Stratification2'>"
            ]
          },
          "metadata": {},
          "execution_count": 31
        },
        {
          "output_type": "display_data",
          "data": {
            "text/plain": [
              "<Figure size 640x480 with 1 Axes>"
            ],
            "image/png": "[encoded data removed]"
          },
          "metadata": {}
        }
      ]
    },
    {
      "cell_type": "code",
      "source": [
        "sns.displot(hdf['Data_Value'])"
      ],
      "metadata": {
        "colab": {
          "base_uri": "https://localhost:8080/",
          "height": 524
        },
        "id": "H2WRfXJ1GoLd",
        "outputId": "6bc8560e-d6ce-4287-f20d-6b3fe52f587c"
      },
      "execution_count": 32,
      "outputs": [
        {
          "output_type": "execute_result",
          "data": {
            "text/plain": [
              "<seaborn.axisgrid.FacetGrid at 0x7d9c3ce0aa40>"
            ]
          },
          "metadata": {},
          "execution_count": 32
        },
        {
          "output_type": "display_data",
          "data": {
            "text/plain": [
              "<Figure size 500x500 with 1 Axes>"
            ],
            "image/png": "[encoded data removed]"
          },
          "metadata": {}
        }
      ]
    },
    {
      "cell_type": "code",
      "source": [],
      "metadata": {
        "id": "_QB2935HG9Cb"
      },
      "execution_count": null,
      "outputs": []
    }
  ]
}